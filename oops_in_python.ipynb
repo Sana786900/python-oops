{
  "nbformat": 4,
  "nbformat_minor": 0,
  "metadata": {
    "colab": {
      "provenance": []
    },
    "kernelspec": {
      "name": "python3",
      "display_name": "Python 3"
    },
    "language_info": {
      "name": "python"
    }
  },
  "cells": [
    {
      "cell_type": "markdown",
      "source": [
        "### **. What are the five key concepts of Object-Oriented Programming (OOP)?**"
      ],
      "metadata": {
        "id": "EMO4RaLKCd84"
      }
    },
    {
      "cell_type": "markdown",
      "source": [
        "### **Encapsulation**: Bundling data and methods that operate on that data within one unit or class."
      ],
      "metadata": {
        "id": "Gp4stuDsD_Pa"
      }
    },
    {
      "cell_type": "markdown",
      "source": [
        "### **Abstraction**: Hiding the complex implementation details and showing only the necessary features"
      ],
      "metadata": {
        "id": "VvEfRRB0ETWe"
      }
    },
    {
      "cell_type": "markdown",
      "source": [
        "### **Inheritance**: Allowing one class to inherit properties and methods from another class."
      ],
      "metadata": {
        "id": "QCp2V6JfEdlS"
      }
    },
    {
      "cell_type": "markdown",
      "source": [
        "### **Polymorphism**: The ability to use a method in different forms (e.g., method overriding)"
      ],
      "metadata": {
        "id": "477x0nK3Ei-B"
      }
    },
    {
      "cell_type": "markdown",
      "source": [
        "### **Modularity**: Dividing a program into smaller, manageable, and independent sections or modules."
      ],
      "metadata": {
        "id": "XQ2qvP6ME2hI"
      }
    },
    {
      "cell_type": "markdown",
      "source": [
        "### **Write a Python class for a Car with attributes for make, model, and year. Include a method to display the car's information.**"
      ],
      "metadata": {
        "id": "DQsECCMZF9ZK"
      }
    },
    {
      "cell_type": "code",
      "source": [
        "class Car:\n",
        "    def __init__(self, make, model, year):\n",
        "        self.make = make\n",
        "        self.model = model\n",
        "        self.year = year\n",
        "\n",
        "    def show_info(self):\n",
        "        return f\"{self.year} {self.make} {self.model}\"\n",
        "\n",
        "\n",
        "car1 = Car(\"Honda\", \"Civic\", 2019)\n",
        "print(car1.show_info())\n"
      ],
      "metadata": {
        "colab": {
          "base_uri": "https://localhost:8080/"
        },
        "id": "Na1Xz_E3GOhR",
        "outputId": "02951812-401f-431a-b55a-09e63e7535ee"
      },
      "execution_count": 1,
      "outputs": [
        {
          "output_type": "stream",
          "name": "stdout",
          "text": [
            "2019 Honda Civic\n"
          ]
        }
      ]
    },
    {
      "cell_type": "markdown",
      "source": [
        "### **Explain the difference between instance methods and class methods. Provide an example of each.**"
      ],
      "metadata": {
        "id": "kL3bwivAHD8H"
      }
    },
    {
      "cell_type": "markdown",
      "source": [
        "### **Instance methods**: Operate on instances of the class. They take self as their first parameter, which refers to the object instance."
      ],
      "metadata": {
        "id": "rY9r7YoXHIyz"
      }
    },
    {
      "cell_type": "code",
      "source": [
        "class Example:\n",
        "    def instance_method(self):\n",
        "        return f\"Called instance method for {self}\""
      ],
      "metadata": {
        "id": "EUCSGcICHGqi"
      },
      "execution_count": 3,
      "outputs": []
    },
    {
      "cell_type": "markdown",
      "source": [
        "### **Class methods**: Operate on the class itself and are marked with the @classmethod decorator. They take cls as their first parameter, referring to the class."
      ],
      "metadata": {
        "id": "LbQcBcTIH5hy"
      }
    },
    {
      "cell_type": "code",
      "source": [
        "\n",
        "0class Example:\n",
        "    def instance_method(self):\n",
        "        return f\"Called instance method for {self}\"\n",
        "        @classmethod\n",
        "        def class_method(cls):\n",
        "          return f\"Called class method for {cls}\"\n"
      ],
      "metadata": {
        "id": "ZMzCUqL6IKDx"
      },
      "execution_count": 6,
      "outputs": []
    },
    {
      "cell_type": "code",
      "source": [
        "class Example:\n",
        "    def instance_method(self):\n",
        "        return \"This is an instance method\"\n",
        "    @classmethod\n",
        "    def class_method(cls):\n",
        "        return \"This is a class method\"\n",
        "obj = Example()\n",
        "print(obj.instance_method())\n",
        "print(Example.class_method())\n"
      ],
      "metadata": {
        "colab": {
          "base_uri": "https://localhost:8080/"
        },
        "id": "dKJ5PJI6JOkD",
        "outputId": "08cb1c31-e879-4d3a-91c6-94bfa60136d7"
      },
      "execution_count": 22,
      "outputs": [
        {
          "output_type": "stream",
          "name": "stdout",
          "text": [
            "This is an instance method\n",
            "This is a class method\n"
          ]
        }
      ]
    },
    {
      "cell_type": "markdown",
      "source": [
        "### **How does Python implement method overloading? Give an example.**"
      ],
      "metadata": {
        "id": "GlMyRZ4FKQLF"
      }
    },
    {
      "cell_type": "markdown",
      "source": [
        "### **Using Default Arguments**: Python allows to use default values for arguments, making it possible to handle multiple cases within a single method."
      ],
      "metadata": {
        "id": "v_VYlJGTNC0K"
      }
    },
    {
      "cell_type": "markdown",
      "source": [
        "### **Using args and kwargs**: These special syntax elements allow a function to accept any number of positional (args) or keyword (**kwargs) arguments, enabling it to handle different numbers or types of inputs dynamically."
      ],
      "metadata": {
        "id": "Zaa6u5uvMLC8"
      }
    },
    {
      "cell_type": "markdown",
      "source": [
        "### **Type Checking Inside the Method**: We can check the type or number of arguments within the method and perform different actions based on those checks."
      ],
      "metadata": {
        "id": "XdzQy6hAMLiG"
      }
    },
    {
      "cell_type": "code",
      "source": [
        "class Example:\n",
        "    def display(self, a):\n",
        "        print(f\"One argument: {a}\")\n",
        "\n",
        "    def display(self, a, b):\n",
        "        print(f\"Two arguments: {a}, {b}\")\n",
        "\n",
        "obj = Example()\n",
        "obj.display(5, 10)\n"
      ],
      "metadata": {
        "colab": {
          "base_uri": "https://localhost:8080/"
        },
        "id": "Ip7pfSjBMFaa",
        "outputId": "0b4a70c0-0503-4f6b-d965-2bc6469a1439"
      },
      "execution_count": 8,
      "outputs": [
        {
          "output_type": "stream",
          "name": "stdout",
          "text": [
            "Two arguments: 5, 10\n"
          ]
        }
      ]
    },
    {
      "cell_type": "markdown",
      "source": [
        "### **What are the three types of access modifiers in Python? How are they denoted?**"
      ],
      "metadata": {
        "id": "onkg1sz_O-Uv"
      }
    },
    {
      "cell_type": "markdown",
      "source": [
        "### **Public**: Accessible from anywhere. Denoted without any leading underscores (eg., variable)."
      ],
      "metadata": {
        "id": "II8SINuYPENT"
      }
    },
    {
      "cell_type": "markdown",
      "source": [
        "### **Protected**: Intended to be used within the class or subclass. Denoted with a single leading underscore (e.g., _variable)."
      ],
      "metadata": {
        "id": "VYrDVSh0PJ47"
      }
    },
    {
      "cell_type": "markdown",
      "source": [
        "### **Private**: Accessible only within the class where it is defined. Denoted with double leading underscores (e.g., __variable)."
      ],
      "metadata": {
        "id": "RQQkO4j3PKUl"
      }
    },
    {
      "cell_type": "code",
      "source": [
        "class Person:\n",
        "    def __init__(self, name, age):\n",
        "        self.name = name\n",
        "        self._age = age\n",
        "        self.__ssn = \"123-45-6789\"\n",
        "\n",
        "    def display_info(self):\n",
        "        return f\"Name: {self.name}, Age: {self._age}, SSN: {self.__ssn}\"\n",
        "\n",
        "\n",
        "p = Person(\"Alice\", 30)\n",
        "print(p.name)\n",
        "print(p._age)\n",
        "# print(p.__ssn)\n",
        "print(p._Person__ssn)\n"
      ],
      "metadata": {
        "colab": {
          "base_uri": "https://localhost:8080/"
        },
        "id": "8fBp6V7nP3CR",
        "outputId": "67105da4-cf08-4888-ddbf-de9a12e8b9a8"
      },
      "execution_count": 9,
      "outputs": [
        {
          "output_type": "stream",
          "name": "stdout",
          "text": [
            "Alice\n",
            "30\n",
            "123-45-6789\n"
          ]
        }
      ]
    },
    {
      "cell_type": "markdown",
      "source": [
        "### **Describe the five types of inheritance in Python. Provide a simple example of multiple inheritance.**"
      ],
      "metadata": {
        "id": "42NPC7bmSVKE"
      }
    },
    {
      "cell_type": "markdown",
      "source": [
        "### **Single Inheritance**: A class inherits from one base class."
      ],
      "metadata": {
        "id": "vX7dLVBSSfmO"
      }
    },
    {
      "cell_type": "markdown",
      "source": [
        "### **Multiple Inheritance**: A class inherits from more than one base class."
      ],
      "metadata": {
        "id": "FriSA2duSm42"
      }
    },
    {
      "cell_type": "markdown",
      "source": [
        "### **Multilevel Inheritance**: A class is derived from another derived class"
      ],
      "metadata": {
        "id": "u-2szTTASn1e"
      }
    },
    {
      "cell_type": "markdown",
      "source": [
        "### **Hybrid Inheritance**: A combination of two or more types of inheritance."
      ],
      "metadata": {
        "id": "mBalsjbZSoNR"
      }
    },
    {
      "cell_type": "markdown",
      "source": [
        "### **Hierarchical Inheritance**: Multiple classes inherit from a single base class"
      ],
      "metadata": {
        "id": "vh0IFd3pSocD"
      }
    },
    {
      "cell_type": "code",
      "source": [
        "class A:\n",
        "    def method_a(self):\n",
        "        return \"Method A\"\n",
        "\n",
        "class B:\n",
        "    def method_b(self):\n",
        "        return \"Method B\"\n",
        "\n",
        "class C(A, B):\n",
        "    pass\n",
        "\n",
        "c = C()\n",
        "print(c.method_a())\n",
        "print(c.method_b())\n"
      ],
      "metadata": {
        "colab": {
          "base_uri": "https://localhost:8080/"
        },
        "id": "E7OVE_UmUD48",
        "outputId": "57867b59-c3cd-476b-a9e6-6a4aa9fb9d53"
      },
      "execution_count": 10,
      "outputs": [
        {
          "output_type": "stream",
          "name": "stdout",
          "text": [
            "Method A\n",
            "Method B\n"
          ]
        }
      ]
    },
    {
      "cell_type": "markdown",
      "source": [
        "### **What is the Method Resolution Order (MRO) in Python? How can you retrieve it programmatically?**"
      ],
      "metadata": {
        "id": "GqIApLhdUP9A"
      }
    },
    {
      "cell_type": "markdown",
      "source": [
        "### MRO defines the order in which base classes are searched when executing a method. Python uses the C3 linearization algorithm to determine the MRO, ensuring consistency in the inheritance hierarchy.we can retrieve the MRO using the __mro__ attribute or the mro() method."
      ],
      "metadata": {
        "id": "a71nAADgUf_t"
      }
    },
    {
      "cell_type": "code",
      "source": [
        "class A: pass\n",
        "class B(A): pass\n",
        "class C(B): pass\n",
        "\n",
        "print(C.__mro__)\n",
        "print(C.mro())\n"
      ],
      "metadata": {
        "colab": {
          "base_uri": "https://localhost:8080/"
        },
        "id": "1U9xse9DUtcy",
        "outputId": "a36fb453-ca55-4511-a532-0f267a2e68ba"
      },
      "execution_count": 11,
      "outputs": [
        {
          "output_type": "stream",
          "name": "stdout",
          "text": [
            "(<class '__main__.C'>, <class '__main__.B'>, <class '__main__.A'>, <class 'object'>)\n",
            "[<class '__main__.C'>, <class '__main__.B'>, <class '__main__.A'>, <class 'object'>]\n"
          ]
        }
      ]
    },
    {
      "cell_type": "markdown",
      "source": [
        "### **Create an abstract base class Shape with an abstract method area(). Then create two subclasses Circle and Rectangle that implement the area() method.**"
      ],
      "metadata": {
        "id": "qXoezhFjVKpa"
      }
    },
    {
      "cell_type": "code",
      "source": [
        "from abc import ABC, abstractmethod\n",
        "\n",
        "class Shape(ABC):\n",
        "    @abstractmethod\n",
        "    def area(self):\n",
        "        pass\n",
        "\n",
        "class Circle(Shape):\n",
        "    def __init__(self, radius):\n",
        "        self.radius = radius\n",
        "\n",
        "    def area(self):\n",
        "        return 4.1416 * self.radius ** 3\n",
        "\n",
        "class Rectangle(Shape):\n",
        "    def __init__(self, width, height):\n",
        "        self.width = width\n",
        "        self.height = height\n",
        "\n",
        "    def area(self):\n",
        "        return self.width * self.height\n",
        "\n",
        "circle = Circle(4)\n",
        "rectangle = Rectangle(4, 6)\n",
        "print(f\"Circle area: {circle.area()}\")\n",
        "print(f\"Rectangle area: {rectangle.area()}\")\n"
      ],
      "metadata": {
        "colab": {
          "base_uri": "https://localhost:8080/"
        },
        "id": "nf-qQi4BVeIR",
        "outputId": "58cfade6-c9cb-4e96-e844-6f1d053d7dfe"
      },
      "execution_count": 13,
      "outputs": [
        {
          "output_type": "stream",
          "name": "stdout",
          "text": [
            "Circle area: 265.0624\n",
            "Rectangle area: 24\n"
          ]
        }
      ]
    },
    {
      "cell_type": "markdown",
      "source": [
        "### **Demonstrate polymorphism by creating a function that can work with different shape objects to calculate and print their areas.**"
      ],
      "metadata": {
        "id": "3X3HK6IuWDhw"
      }
    },
    {
      "cell_type": "code",
      "source": [
        "def print_area(shape):\n",
        "    print(f\"Area: {shape.area()}\")\n",
        "\n",
        "shapes = [Circle(3), Rectangle(2, 5)]\n",
        "for shape in shapes:\n",
        "    print_area(shape)\n"
      ],
      "metadata": {
        "colab": {
          "base_uri": "https://localhost:8080/"
        },
        "id": "riML67qEWGbc",
        "outputId": "f89ea878-3ad8-462a-a274-2f97b8255339"
      },
      "execution_count": 14,
      "outputs": [
        {
          "output_type": "stream",
          "name": "stdout",
          "text": [
            "Area: 111.82320000000001\n",
            "Area: 10\n"
          ]
        }
      ]
    },
    {
      "cell_type": "markdown",
      "source": [
        "### **Implement encapsulation in a BankAccount class with private attributes for balance and account_number. Include methods for deposit, withdrawal, and balance inquiry**"
      ],
      "metadata": {
        "id": "4xXtq54wWqnT"
      }
    },
    {
      "cell_type": "code",
      "source": [
        "class BankAccount:\n",
        "    def __init__(self, account_num, initial_balance=0):\n",
        "        self.__account_num = account_num\n",
        "        self.__balance = initial_balance\n",
        "\n",
        "    def deposit(self, amount):\n",
        "        self.__balance += amount\n",
        "\n",
        "    def withdraw(self, amount):\n",
        "        if self.__balance >= amount:\n",
        "            self.__balance -= amount\n",
        "        else:\n",
        "            print(\"Insufficient funds\")\n",
        "\n",
        "    def check_balance(self):\n",
        "        return self.__balance\n",
        "\n",
        "account = BankAccount(\"1234567890\", 1000)\n",
        "account.deposit(500)\n",
        "account.withdraw(300)\n",
        "print(account.check_balance())\n"
      ],
      "metadata": {
        "colab": {
          "base_uri": "https://localhost:8080/"
        },
        "id": "DQ_Zdv0nWtIW",
        "outputId": "140b3f3c-5d24-42d9-e19a-04f1def16659"
      },
      "execution_count": 15,
      "outputs": [
        {
          "output_type": "stream",
          "name": "stdout",
          "text": [
            "1200\n"
          ]
        }
      ]
    },
    {
      "cell_type": "markdown",
      "source": [
        "### **Write a class that overrides the __str__ and __add__ magic methods. What will these methods allow you to do?**"
      ],
      "metadata": {
        "id": "qSjrZkwvW9h5"
      }
    },
    {
      "cell_type": "code",
      "source": [
        "class Money:\n",
        "    def __init__(self, amount):\n",
        "        self.amount = amount\n",
        "\n",
        "    def __str__(self):\n",
        "        return f\"Amount: {self.amount}\"\n",
        "\n",
        "    def __add__(self, other):\n",
        "        return Money(self.amount + other.amount)\n",
        "\n",
        "m1 = Money(100)\n",
        "m2 = Money(200)\n",
        "print(m1)\n",
        "m3 = m1 + m2\n",
        "print(m3)\n"
      ],
      "metadata": {
        "colab": {
          "base_uri": "https://localhost:8080/"
        },
        "id": "f8fbbflmXFhK",
        "outputId": "98b00ded-5f68-42dc-8cbb-98bbaaac3542"
      },
      "execution_count": 16,
      "outputs": [
        {
          "output_type": "stream",
          "name": "stdout",
          "text": [
            "Amount: 100\n",
            "Amount: 300\n"
          ]
        }
      ]
    },
    {
      "cell_type": "markdown",
      "source": [
        "### **Create a decorator that measures and prints the execution time of a function.**"
      ],
      "metadata": {
        "id": "scf_2sNPXdp9"
      }
    },
    {
      "cell_type": "code",
      "source": [
        "import time\n",
        "\n",
        "def timing_decorator(func):\n",
        "    def wrapper(*args, **kwargs):\n",
        "        start_time = time.perf_counter()\n",
        "        result = func(*args, **kwargs)\n",
        "        end_time = time.perf_counter()\n",
        "        print(f\"Executed in {end_time - start_time:.4f} seconds\")\n",
        "        return result\n",
        "    return wrapper\n",
        "\n",
        "@timing_decorator\n",
        "def slow_function():\n",
        "    time.sleep(1)\n",
        "    print(\"Function complete\")\n",
        "\n",
        "slow_function()\n"
      ],
      "metadata": {
        "colab": {
          "base_uri": "https://localhost:8080/"
        },
        "id": "dDDgfxAfXhRx",
        "outputId": "26e54382-c3b1-45fe-ef24-d904c097c675"
      },
      "execution_count": 17,
      "outputs": [
        {
          "output_type": "stream",
          "name": "stdout",
          "text": [
            "Function complete\n",
            "Executed in 1.0024 seconds\n"
          ]
        }
      ]
    },
    {
      "cell_type": "markdown",
      "source": [
        "### **Explain the concept of the Diamond Problem in multiple inheritance. How does Python resolve it?**"
      ],
      "metadata": {
        "id": "dCJyVBB_X4ON"
      }
    },
    {
      "cell_type": "markdown",
      "source": [
        "### The Diamond Problem occurs in multiple inheritance when a class inherits from two classes that both inherit from the same base class. It creates ambiguity in which class method should be called. Python resolves this using the Method Resolution Order (MRO), which follows the C3 linearization algorithm to ensure a consistent order."
      ],
      "metadata": {
        "id": "LSYEx9o5YI_p"
      }
    },
    {
      "cell_type": "code",
      "source": [
        "class A:\n",
        "    def show(self):\n",
        "        print(\"A\")\n",
        "\n",
        "class B(A):\n",
        "    def show(self):\n",
        "        print(\"B\")\n",
        "\n",
        "class C(A):\n",
        "    def show(self):\n",
        "        print(\"C\")\n",
        "\n",
        "class D(B, C):\n",
        "    pass\n",
        "\n",
        "d = D()\n",
        "d.show()\n"
      ],
      "metadata": {
        "colab": {
          "base_uri": "https://localhost:8080/"
        },
        "id": "GAK0XoU-YDVa",
        "outputId": "93a8d7fd-2859-49ea-88e7-8a6764a0302d"
      },
      "execution_count": 18,
      "outputs": [
        {
          "output_type": "stream",
          "name": "stdout",
          "text": [
            "B\n"
          ]
        }
      ]
    },
    {
      "cell_type": "markdown",
      "source": [
        "### **Write a class method that keeps track of the number of instances created from a class.**"
      ],
      "metadata": {
        "id": "gcA3JQ0_YXY0"
      }
    },
    {
      "cell_type": "code",
      "source": [
        "class InstanceTracker:\n",
        "    count = 0\n",
        "\n",
        "    def __init__(self):\n",
        "        InstanceTracker.count += 1\n",
        "\n",
        "    @classmethod\n",
        "    def get_instance_count(cls):\n",
        "        return f\"Instances created: {cls.count}\"\n",
        "\n",
        "obj1 = InstanceTracker()\n",
        "obj2 = InstanceTracker()\n",
        "print(InstanceTracker.get_instance_count())\n"
      ],
      "metadata": {
        "colab": {
          "base_uri": "https://localhost:8080/"
        },
        "id": "C_ZfSaU9YeW5",
        "outputId": "e95690d5-c0b1-4542-f53a-9b4d57e2b50c"
      },
      "execution_count": 19,
      "outputs": [
        {
          "output_type": "stream",
          "name": "stdout",
          "text": [
            "Instances created: 2\n"
          ]
        }
      ]
    },
    {
      "cell_type": "markdown",
      "source": [
        "### **Implement a static method in a class that checks if a given year is a leap year.**"
      ],
      "metadata": {
        "id": "qa1erlcnYwnl"
      }
    },
    {
      "cell_type": "code",
      "source": [
        "class Calendar:\n",
        "    @staticmethod\n",
        "    def is_leap_year(year):\n",
        "        if (year % 4 == 0 and year % 100 != 0) or (year % 400 == 0):\n",
        "            return True\n",
        "        return False\n",
        "\n",
        "print(Calendar.is_leap_year(2024))\n",
        "print(Calendar.is_leap_year(2023))\n"
      ],
      "metadata": {
        "colab": {
          "base_uri": "https://localhost:8080/"
        },
        "id": "ryHP9xTMY02J",
        "outputId": "ee8b2588-a1ec-4f24-e58c-a8c5062225ab"
      },
      "execution_count": 20,
      "outputs": [
        {
          "output_type": "stream",
          "name": "stdout",
          "text": [
            "True\n",
            "False\n"
          ]
        }
      ]
    }
  ]
}